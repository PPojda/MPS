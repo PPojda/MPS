import pint
import math
from matplotlib import pyplot
import numpy as np


si = pint.UnitRegistry() 


M = 10*si.kg
A = 100*si.m**2
u = 0.1*si.m/si.s
D = 10**(-2)*si.m**2/si.s
x = 5*si.m


def c(t):
    return (M / A) * (1 / (2 * (np.pi * D)**0.5)) * (1 / t**(1/2)) * np.exp(-((u * t - x)**2) / (4 * D * t))


si.setup_matplotlib()
t = np.linspace(0, 100, 100)*si.s
pyplot.suptitle("Concentration Distribution Over Time")
pyplot.plot(t, c(t))
